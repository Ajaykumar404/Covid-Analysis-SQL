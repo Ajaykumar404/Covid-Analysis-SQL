## Covid Data Exploration and Analysis 
- Analyzing covid deaths and vaccinations for whole world and India
- Data Source -  ourworldindata
- finding highest death counts
- finding percatnges of deaths and total vaccinations with respect to population
- Analysis of data on country and continent level

#### Steps
- reading the data
- Cleaning for missing values
- seperating data on country, continents level
- finding useful dates for analysis for vaccinations

import pandas as pd
import pandasql as ps
cd = pd.read_excel("https://github.com/Siddharthbadal/SQL/blob/main/dataset/covidDeaths.xlsx?raw=true", sheet_name="covidDeaths")
cd.head()
cv = pd.read_excel('https://github.com/Siddharthbadal/SQL/blob/main/dataset/covidVaccines.xlsx?raw=true', sheet_name="covidVaccines")
cv.head()
## Selecting data we need for analysis
ps.sqldf("""

SELECT location, date, total_cases, total_deaths
FROM cd
ORDER BY 1, 2
LIMIT 10
""")
ps.sqldf(""" 
   SELECT location, date, total_cases, total_deaths
FROM cd
Where location = 'Africa'
LIMIT 10

""")
# Deaths Percentages in USA

ps.sqldf("""

SELECT location, date, total_cases, total_deaths, (total_deaths/total_cases)*100 AS "Death %"
FROM cd
WHERE location like "%states%"
ORDER BY 1,2


""")
# Death % in India. 

ps.sqldf("""

SELECT location, date, total_cases, total_deaths, (total_deaths/total_cases)*100 AS "Death %"
FROM cd
WHERE location = "India"
ORDER BY 1,2


""")
## Understanding continent column in the table
Continents with the Hihgest deaths count
ps.sqldf("""
    SELECT continent, MAX(Total_deaths) AS "Total Deaths In Continents"
    FROM cd
    WHERE continent is not null
    GROUP By continent
    ORDER By "Total Deaths In Continents" DESC

""")
# Data where continent is null
ps.sqldf("""
    SELECT continent, MAX(Total_deaths) AS "Total Deaths In Continents"
    FROM cd
    WHERE continent is null
    GROUP By continent
    ORDER By "Total Deaths In Continents" DESC

""")
## Using location instead of Continent
Countries with highest death count where continent values are not missing
ps.sqldf("""
    SELECT location, MAX(Total_deaths) AS "Total Deaths In Continents"
    FROM cd
    WHERE continent is not null
    GROUP By location
    ORDER By "Total Deaths In Continents" DESC

""")
#### now considering null valuess in continent with location. This gives more accurate results

ps.sqldf("""
    SELECT location, MAX(Total_deaths) AS "Total Deaths In Continents"
    FROM cd
    WHERE continent is null
    GROUP By location
    ORDER By "Total Deaths In Continents" DESC

""")

# Total cases Vs Population
ps.sqldf("""

SELECT location, date, total_cases, population, round((total_cases / population) * 100, 3) as "Death % of Population"
FROM cd
WHERE location like "%states%"
ORDER BY 1,2


""")
ps.sqldf("""

SELECT location, date, total_cases, population, round((total_cases / population) * 100,2) as "Death % of Population"
FROM cd
WHERE location = "India"
ORDER BY 1,2


""")
## Highest Infection rate compared to Population
ps.sqldf("""

SELECT location, population, MAX(total_cases) AS MaxInfectedCount, MAX((total_cases / population)) * 100 AS "InfectedOfPopulation %"
FROM cd
WHERE continent is not null
GROUP BY location, population
ORDER BY "InfectedOfPopulation %" DESC

""")
## Highest Death Rate compared to Population
ps.sqldf("""

SELECT location, population, MAX(total_deaths) AS TotalDeathCount
FROM cd
WHERE continent is not null
GROUP BY location
ORDER BY TotalDeathCount DESC

""")


ps.sqldf("""

SELECT location, population, MAX(total_deaths) AS TotalDeathCount, (total_deaths / population) * 100 AS DeathsOfPopulation
FROM cd
WHERE continent is not null
GROUP BY location, population
ORDER BY DeathsOfPopulation DESC

""")

ps.sqldf("""

SELECT location, total_cases, MAX(total_deaths), MAX((total_deaths / total_cases)) * 100 AS DeathsOnTotalCases
FROM cd
WHERE continent is not null AND
        total_cases > 10000
GROUP BY location, total_cases
ORDER BY DeathsOnTotalCases DESC

""")

### Global Data Analysis
Finding total new deaths with date and
finding total new deaths globally in comparision with total new cases

New cases and new deaths shows data on the given date.
ps.sqldf("""

    SELECT date, SUM(new_cases) AS toal_new_cases, SUM(new_deaths) AS total_new_deaths, SUM(new_deaths * 100/new_cases) AS DeathPercantage
    FROM cd
    WHERE continent is not null AND total_cases is not null
    GROUP BY date
    ORDER by 1, 2


""")
ps.sqldf("""

    SELECT date, SUM(new_cases) AS toal_new_cases, SUM(new_deaths) AS total_new_deaths, ROUND(SUM(new_deaths/new_cases),2) * 100 AS DeathPercantage
    FROM cd
    WHERE continent is not null AND total_cases is not null
    ORDER by 1, 2


""")
### Total deaths are 2.19% of toal cases
##### Joing both the tables covid deaths AS cd and covid vaccinations AS cv
ps.sqldf("""
    SELECT cd.continent, cd.location, cd.date, cd.population, cv.new_vaccinations
    FROM cd
    JOIN cv
    ON cd.location = cv.location AND
    cd.date = cv.date
    WHERE cd.continent is not null
    ORDER BY 1,2,3
""")

### Partitioning data with location and adding new vaccinations in a new coulmn by date
ps.sqldf("""
    SELECT cd.continent, cd.location, cd.date, cd.population, cv.new_vaccinations, SUM(cv.new_vaccinations) OVER (PARTITION BY cd.location ORDER BY cd.location, cd.date) AS  EveryDayCountAdded
    FROM cd
    JOIN cv
    ON cd.location = cv.location AND
    cd.date = cv.date
    WHERE cd.continent is not null
    AND cv.new_vaccinations is not null
    ORDER BY 2,3
""")

# Finding vaccinations for India with the above query
Vaccination in india starts on 16-Jan-2021
ps.sqldf("""
    SELECT cd.continent, cd.location, cd.date, cd.population, cv.new_vaccinations
    FROM cd
    JOIN cv
    ON cd.location = cv.location AND
    cd.date = cv.date
    WHERE cd.continent is not null 
    AND cd.location = 'India' 
    AND new_vaccinations is not null
    ORDER BY 1,2,3
""")

### Finding total vaccinations, in addition and respect to each day
ps.sqldf("""
    SELECT cd.continent, cd.location, cd.date, cd.population, cv.new_vaccinations, SUM(cv.new_vaccinations) OVER (PARTITION BY cd.location ORDER BY cd.location, cd.date) AS Adding_Vaccinactions_on_days
    FROM cd
    JOIN cv
    ON cd.location = cv.location AND
    cd.date = cv.date
    WHERE cd.continent is not null
    AND cv.new_vaccinations is not null
    AND cd.location = 'India'
    ORDER BY 2,3
""")

ps.sqldf("""
    SELECT cd.continent, cd.location, cd.date, cd.population, cv.new_vaccinations, (SUM(cv.new_vaccinations) OVER (PARTITION BY cd.location ORDER BY cd.location, cd.date) / cd.population) * 100 AS "Vaccinated %"
    FROM cd
    JOIN cv
    ON cd.location = cv.location AND
    cd.date = cv.date
    WHERE cd.continent is not null
    AND cv.new_vaccinations is not null
    AND cd.location = 'India'
    ORDER BY 2,3 DESC
    LIMIT 1
""")

### maximum vaccinations on a day
ps.sqldf("""
    SELECT cd.continent, cd.location, cd.date, cd.population, cv.new_vaccinations, MAX(cv.new_vaccinations) AS Max
    FROM cd
    JOIN cv
    ON cd.location = cv.location AND
    cd.date = cv.date
    WHERE cd.continent is not null
    AND cv.new_vaccinations is not null
    AND cd.location = 'India'
    ORDER BY 2,3
""")

### Minimum vaccinations on a day
ps.sqldf("""
    SELECT cd.continent, cd.location, cd.date, cd.population, cv.new_vaccinations, MIN(cv.new_vaccinations) AS Min
    FROM cd
    JOIN cv
    ON cd.location = cv.location AND
    cd.date = cv.date
    WHERE cd.continent is not null
    AND cv.new_vaccinations is not null
    AND cd.location = 'India'
    ORDER BY 2,3
""")

### From above queries on India
- Vaccination in india started on 16-Jan-2021
- Untill 27-June-2021 total vaccination is (305662926.0)
- On 21-June-21 Maximum number of vaccinations were done.(9027343)
- On 26-Jan-2021 Minimum number of vaccinations were done. (5671) (Republic Day)
## % of population vaccinated
ps.sqldf("""
With PopulationVsVaccination (continent, location, date, population, new_vaccinations, EveryDayCountAdded)
AS
(
    SELECT cd.continent, cd.location, cd.date, cd.population, cv.new_vaccinations, SUM(cv.new_vaccinations) OVER (PARTITION BY cd.location ORDER BY cd.location, cd.date) AS  EveryDayCountAdded
    FROM cd
    JOIN cv
    ON cd.location = cv.location AND
    cd.date = cv.date
    WHERE cd.continent is not null
    AND cv.new_vaccinations is not null
    ORDER BY 2,3
)
SELECT *, (EveryDayCountAdded / population ) * 100
FROM PopulationVsVaccination
""")

ps.sqldf("""
With PopulationVsVaccination (continent, location, date, population, new_vaccinations, EveryDayCountAdded)
AS
(
    SELECT cd.continent, cd.location, cd.date, cd.population, cv.new_vaccinations, SUM(cv.new_vaccinations) OVER (PARTITION BY cd.location ORDER BY cd.location, cd.date) AS  EveryDayCountAdded
    FROM cd
    JOIN cv
    ON cd.location = cv.location AND
    cd.date = cv.date
    WHERE cd.continent is not null 
    AND cv.new_vaccinations is not null
    ORDER BY 2,3
)
SELECT *, (EveryDayCountAdded / population ) * 100
FROM PopulationVsVaccination
WHERE location = 'India'
""")

### Total 22% of total population of India is now vaccinated (till 27th June) (first dose at least)
ps.sqldf("""
With PopulationVsVaccination (continent, location, date, population, new_vaccinations, EveryDayCountAdded)
AS
(
    SELECT cd.continent, cd.location, cd.date, cd.population, cv.new_vaccinations, SUM(cv.new_vaccinations) OVER (PARTITION BY cd.location ORDER BY cd.location, cd.date) AS  EveryDayCountAdded
    FROM cd
    JOIN cv
    ON cd.location = cv.location AND
    cd.date = cv.date
    WHERE cd.continent is not null 
    AND cv.new_vaccinations is not null
    ORDER BY 2,3
)
SELECT *, (EveryDayCountAdded / population ) * 100
FROM PopulationVsVaccination
WHERE location = 'United States'
""")

### Over 93% of USA population is now vaccinated (first Dose at least)





